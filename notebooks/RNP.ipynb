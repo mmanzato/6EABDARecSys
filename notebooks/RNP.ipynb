{
 "cells": [
  {
   "cell_type": "markdown",
   "metadata": {
    "id": "y0xocXpOp2QB"
   },
   "source": [
    "### Importar base de dados e instalar framework de recomendação"
   ]
  },
  {
   "cell_type": "code",
   "execution_count": 3,
   "metadata": {
    "colab": {
     "base_uri": "https://localhost:8080/",
     "height": 589
    },
    "executionInfo": {
     "elapsed": 8102,
     "status": "ok",
     "timestamp": 1602874807788,
     "user": {
      "displayName": "Arthur Fortes da Costa",
      "photoUrl": "",
      "userId": "07165886726870908895"
     },
     "user_tz": 180
    },
    "id": "gXu6ZhWDp2QE",
    "outputId": "f3954929-126a-46dc-902f-e50f816715d1"
   },
   "outputs": [
    {
     "name": "stdout",
     "output_type": "stream",
     "text": [
      "100% [....................................................] 23861964 / 23861964\n",
      "Saved under AmazonMusic.tar (1).xz\n",
      "Defaulting to user installation because normal site-packages is not writeable\n",
      "Requirement already satisfied: caserecommender in /usr/local/lib/python3.8/site-packages (1.1.0)\n",
      "Requirement already satisfied: scikit-learn in /usr/local/lib/python3.8/site-packages (from caserecommender) (1.0.1)\n",
      "Requirement already satisfied: pandas in /usr/local/lib/python3.8/site-packages (from caserecommender) (1.3.4)\n",
      "Requirement already satisfied: numpy in /usr/local/lib/python3.8/site-packages (from caserecommender) (1.20.2)\n",
      "Requirement already satisfied: scipy in /usr/local/lib/python3.8/site-packages (from caserecommender) (1.7.2)\n",
      "Requirement already satisfied: pytz>=2017.3 in /usr/local/lib/python3.8/site-packages (from pandas->caserecommender) (2021.1)\n",
      "Requirement already satisfied: python-dateutil>=2.7.3 in /usr/local/lib/python3.8/site-packages (from pandas->caserecommender) (2.8.2)\n",
      "Requirement already satisfied: threadpoolctl>=2.0.0 in /usr/local/lib/python3.8/site-packages (from scikit-learn->caserecommender) (3.0.0)\n",
      "Requirement already satisfied: joblib>=0.11 in /usr/local/lib/python3.8/site-packages (from scikit-learn->caserecommender) (1.0.1)\n",
      "Requirement already satisfied: six>=1.5 in /usr/local/lib/python3.8/site-packages (from python-dateutil>=2.7.3->pandas->caserecommender) (1.15.0)\n",
      "\n",
      "\u001b[1m[\u001b[0m\u001b[34;49mnotice\u001b[0m\u001b[1;39;49m]\u001b[0m\u001b[39;49m A new release of pip available: \u001b[0m\u001b[31;49m22.2.1\u001b[0m\u001b[39;49m -> \u001b[0m\u001b[32;49m22.2.2\u001b[0m\n",
      "\u001b[1m[\u001b[0m\u001b[34;49mnotice\u001b[0m\u001b[1;39;49m]\u001b[0m\u001b[39;49m To update, run: \u001b[0m\u001b[32;49mpython3.8 -m pip install --upgrade pip\u001b[0m\n"
     ]
    }
   ],
   "source": [
    "!python3 -m pip install wget\n",
    "import wget\n",
    "!python3 -m wget https://github.com/mmanzato/6EABDARecSys/raw/main/dataset/AmazonMusic.tar.xz\n",
    "!tar -xf AmazonMusic.tar.xz\n",
    "!python3 -m pip install caserecommender"
   ]
  },
  {
   "cell_type": "markdown",
   "metadata": {
    "id": "aYRhN3GYp2QO"
   },
   "source": [
    "### Importar bibliotecas"
   ]
  },
  {
   "cell_type": "code",
   "execution_count": 4,
   "metadata": {
    "executionInfo": {
     "elapsed": 1161,
     "status": "ok",
     "timestamp": 1602874848542,
     "user": {
      "displayName": "Arthur Fortes da Costa",
      "photoUrl": "",
      "userId": "07165886726870908895"
     },
     "user_tz": 180
    },
    "id": "MqgnlqsLp2QP"
   },
   "outputs": [],
   "source": [
    "import pandas as pd\n",
    "import numpy as np"
   ]
  },
  {
   "cell_type": "markdown",
   "metadata": {
    "id": "LQODRAP5p2QY"
   },
   "source": [
    "### Explorar Dados"
   ]
  },
  {
   "cell_type": "code",
   "execution_count": 8,
   "metadata": {
    "colab": {
     "base_uri": "https://localhost:8080/",
     "height": 511
    },
    "executionInfo": {
     "elapsed": 1310,
     "status": "ok",
     "timestamp": 1602874937864,
     "user": {
      "displayName": "Arthur Fortes da Costa",
      "photoUrl": "",
      "userId": "07165886726870908895"
     },
     "user_tz": 180
    },
    "id": "vraDuP8Hp2QZ",
    "outputId": "76a93380-9125-4080-ee34-7148a377b616"
   },
   "outputs": [
    {
     "data": {
      "text/html": [
       "<div>\n",
       "<style scoped>\n",
       "    .dataframe tbody tr th:only-of-type {\n",
       "        vertical-align: middle;\n",
       "    }\n",
       "\n",
       "    .dataframe tbody tr th {\n",
       "        vertical-align: top;\n",
       "    }\n",
       "\n",
       "    .dataframe thead th {\n",
       "        text-align: right;\n",
       "    }\n",
       "</style>\n",
       "<table border=\"1\" class=\"dataframe\">\n",
       "  <thead>\n",
       "    <tr style=\"text-align: right;\">\n",
       "      <th></th>\n",
       "      <th>asin</th>\n",
       "      <th>title</th>\n",
       "      <th>Accessories</th>\n",
       "      <th>Acid Jazz</th>\n",
       "      <th>Acoustic Blues</th>\n",
       "      <th>Adult Alternative</th>\n",
       "      <th>Adult Contemporary</th>\n",
       "      <th>Africa</th>\n",
       "      <th>Afro Brazilian</th>\n",
       "      <th>Afro-Cuban</th>\n",
       "      <th>...</th>\n",
       "      <th>Wall Stickers</th>\n",
       "      <th>Wall Switches</th>\n",
       "      <th>Washers</th>\n",
       "      <th>Wave Washers &amp; Wave Springs</th>\n",
       "      <th>Wedding Music</th>\n",
       "      <th>West Coast</th>\n",
       "      <th>West Coast Blues</th>\n",
       "      <th>Western Swing</th>\n",
       "      <th>World Dance</th>\n",
       "      <th>World Music</th>\n",
       "    </tr>\n",
       "  </thead>\n",
       "  <tbody>\n",
       "    <tr>\n",
       "      <th>0</th>\n",
       "      <td>5555991584</td>\n",
       "      <td>Memory of Trees</td>\n",
       "      <td>0.0</td>\n",
       "      <td>0.0</td>\n",
       "      <td>0.0</td>\n",
       "      <td>0.0</td>\n",
       "      <td>0.0</td>\n",
       "      <td>0.0</td>\n",
       "      <td>0.0</td>\n",
       "      <td>0.0</td>\n",
       "      <td>...</td>\n",
       "      <td>0.0</td>\n",
       "      <td>0.0</td>\n",
       "      <td>0.0</td>\n",
       "      <td>0.0</td>\n",
       "      <td>0.0</td>\n",
       "      <td>0.0</td>\n",
       "      <td>0.0</td>\n",
       "      <td>0.0</td>\n",
       "      <td>0.0</td>\n",
       "      <td>0.0</td>\n",
       "    </tr>\n",
       "    <tr>\n",
       "      <th>1</th>\n",
       "      <td>6308051551</td>\n",
       "      <td>Dont Drink His Blood</td>\n",
       "      <td>0.0</td>\n",
       "      <td>0.0</td>\n",
       "      <td>0.0</td>\n",
       "      <td>0.0</td>\n",
       "      <td>0.0</td>\n",
       "      <td>0.0</td>\n",
       "      <td>0.0</td>\n",
       "      <td>0.0</td>\n",
       "      <td>...</td>\n",
       "      <td>0.0</td>\n",
       "      <td>0.0</td>\n",
       "      <td>0.0</td>\n",
       "      <td>0.0</td>\n",
       "      <td>0.0</td>\n",
       "      <td>0.0</td>\n",
       "      <td>0.0</td>\n",
       "      <td>0.0</td>\n",
       "      <td>0.0</td>\n",
       "      <td>0.0</td>\n",
       "    </tr>\n",
       "    <tr>\n",
       "      <th>2</th>\n",
       "      <td>7901622466</td>\n",
       "      <td>On Fire</td>\n",
       "      <td>0.0</td>\n",
       "      <td>0.0</td>\n",
       "      <td>0.0</td>\n",
       "      <td>0.0</td>\n",
       "      <td>0.0</td>\n",
       "      <td>0.0</td>\n",
       "      <td>0.0</td>\n",
       "      <td>0.0</td>\n",
       "      <td>...</td>\n",
       "      <td>0.0</td>\n",
       "      <td>0.0</td>\n",
       "      <td>0.0</td>\n",
       "      <td>0.0</td>\n",
       "      <td>0.0</td>\n",
       "      <td>0.0</td>\n",
       "      <td>0.0</td>\n",
       "      <td>0.0</td>\n",
       "      <td>0.0</td>\n",
       "      <td>0.0</td>\n",
       "    </tr>\n",
       "    <tr>\n",
       "      <th>3</th>\n",
       "      <td>B0000000ZW</td>\n",
       "      <td>Changing Faces</td>\n",
       "      <td>0.0</td>\n",
       "      <td>0.0</td>\n",
       "      <td>0.0</td>\n",
       "      <td>0.0</td>\n",
       "      <td>0.0</td>\n",
       "      <td>0.0</td>\n",
       "      <td>0.0</td>\n",
       "      <td>0.0</td>\n",
       "      <td>...</td>\n",
       "      <td>0.0</td>\n",
       "      <td>0.0</td>\n",
       "      <td>0.0</td>\n",
       "      <td>0.0</td>\n",
       "      <td>0.0</td>\n",
       "      <td>0.0</td>\n",
       "      <td>0.0</td>\n",
       "      <td>0.0</td>\n",
       "      <td>0.0</td>\n",
       "      <td>0.0</td>\n",
       "    </tr>\n",
       "    <tr>\n",
       "      <th>4</th>\n",
       "      <td>B00000016W</td>\n",
       "      <td>Pet Sounds</td>\n",
       "      <td>0.0</td>\n",
       "      <td>0.0</td>\n",
       "      <td>0.0</td>\n",
       "      <td>0.0</td>\n",
       "      <td>0.0</td>\n",
       "      <td>0.0</td>\n",
       "      <td>0.0</td>\n",
       "      <td>0.0</td>\n",
       "      <td>...</td>\n",
       "      <td>0.0</td>\n",
       "      <td>0.0</td>\n",
       "      <td>0.0</td>\n",
       "      <td>0.0</td>\n",
       "      <td>0.0</td>\n",
       "      <td>0.0</td>\n",
       "      <td>0.0</td>\n",
       "      <td>0.0</td>\n",
       "      <td>0.0</td>\n",
       "      <td>0.0</td>\n",
       "    </tr>\n",
       "  </tbody>\n",
       "</table>\n",
       "<p>5 rows × 463 columns</p>\n",
       "</div>"
      ],
      "text/plain": [
       "         asin                 title  Accessories  Acid Jazz  Acoustic Blues  \\\n",
       "0  5555991584       Memory of Trees          0.0        0.0             0.0   \n",
       "1  6308051551  Dont Drink His Blood          0.0        0.0             0.0   \n",
       "2  7901622466               On Fire          0.0        0.0             0.0   \n",
       "3  B0000000ZW        Changing Faces          0.0        0.0             0.0   \n",
       "4  B00000016W            Pet Sounds          0.0        0.0             0.0   \n",
       "\n",
       "   Adult Alternative  Adult Contemporary  Africa  Afro Brazilian  Afro-Cuban  \\\n",
       "0                0.0                 0.0     0.0             0.0         0.0   \n",
       "1                0.0                 0.0     0.0             0.0         0.0   \n",
       "2                0.0                 0.0     0.0             0.0         0.0   \n",
       "3                0.0                 0.0     0.0             0.0         0.0   \n",
       "4                0.0                 0.0     0.0             0.0         0.0   \n",
       "\n",
       "   ...  Wall Stickers  Wall Switches  Washers  Wave Washers & Wave Springs  \\\n",
       "0  ...            0.0            0.0      0.0                          0.0   \n",
       "1  ...            0.0            0.0      0.0                          0.0   \n",
       "2  ...            0.0            0.0      0.0                          0.0   \n",
       "3  ...            0.0            0.0      0.0                          0.0   \n",
       "4  ...            0.0            0.0      0.0                          0.0   \n",
       "\n",
       "   Wedding Music  West Coast  West Coast Blues  Western Swing  World Dance  \\\n",
       "0            0.0         0.0               0.0            0.0          0.0   \n",
       "1            0.0         0.0               0.0            0.0          0.0   \n",
       "2            0.0         0.0               0.0            0.0          0.0   \n",
       "3            0.0         0.0               0.0            0.0          0.0   \n",
       "4            0.0         0.0               0.0            0.0          0.0   \n",
       "\n",
       "   World Music  \n",
       "0          0.0  \n",
       "1          0.0  \n",
       "2          0.0  \n",
       "3          0.0  \n",
       "4          0.0  \n",
       "\n",
       "[5 rows x 463 columns]"
      ]
     },
     "execution_count": 8,
     "metadata": {},
     "output_type": "execute_result"
    }
   ],
   "source": [
    "dataset_metadata = pd.read_csv('./AmazonMusic/amazon_music_metadata.csv')\n",
    "dataset_metadata.head()"
   ]
  },
  {
   "cell_type": "code",
   "execution_count": 7,
   "metadata": {
    "colab": {
     "base_uri": "https://localhost:8080/",
     "height": 202
    },
    "executionInfo": {
     "elapsed": 2005,
     "status": "ok",
     "timestamp": 1602874988806,
     "user": {
      "displayName": "Arthur Fortes da Costa",
      "photoUrl": "",
      "userId": "07165886726870908895"
     },
     "user_tz": 180
    },
    "id": "Y3GWuHwSp2Qg",
    "outputId": "07765931-f779-4e82-b020-349e6d7a7b8a"
   },
   "outputs": [
    {
     "data": {
      "text/html": [
       "<div>\n",
       "<style scoped>\n",
       "    .dataframe tbody tr th:only-of-type {\n",
       "        vertical-align: middle;\n",
       "    }\n",
       "\n",
       "    .dataframe tbody tr th {\n",
       "        vertical-align: top;\n",
       "    }\n",
       "\n",
       "    .dataframe thead th {\n",
       "        text-align: right;\n",
       "    }\n",
       "</style>\n",
       "<table border=\"1\" class=\"dataframe\">\n",
       "  <thead>\n",
       "    <tr style=\"text-align: right;\">\n",
       "      <th></th>\n",
       "      <th>reviewerID</th>\n",
       "      <th>asin</th>\n",
       "      <th>reviewerName</th>\n",
       "      <th>helpful</th>\n",
       "      <th>reviewText</th>\n",
       "      <th>overall</th>\n",
       "      <th>summary</th>\n",
       "      <th>unixReviewTime</th>\n",
       "      <th>reviewTime</th>\n",
       "    </tr>\n",
       "  </thead>\n",
       "  <tbody>\n",
       "    <tr>\n",
       "      <th>0</th>\n",
       "      <td>A3EBHHCZO6V2A4</td>\n",
       "      <td>5555991584</td>\n",
       "      <td>Amaranth \"music fan\"</td>\n",
       "      <td>[3, 3]</td>\n",
       "      <td>It's hard to believe \"Memory of Trees\" came ou...</td>\n",
       "      <td>5</td>\n",
       "      <td>Enya's last great album</td>\n",
       "      <td>1158019200</td>\n",
       "      <td>09 12, 2006</td>\n",
       "    </tr>\n",
       "    <tr>\n",
       "      <th>1</th>\n",
       "      <td>AZPWAXJG9OJXV</td>\n",
       "      <td>5555991584</td>\n",
       "      <td>bethtexas</td>\n",
       "      <td>[0, 0]</td>\n",
       "      <td>A clasically-styled and introverted album, Mem...</td>\n",
       "      <td>5</td>\n",
       "      <td>Enya at her most elegant</td>\n",
       "      <td>991526400</td>\n",
       "      <td>06 3, 2001</td>\n",
       "    </tr>\n",
       "    <tr>\n",
       "      <th>2</th>\n",
       "      <td>A38IRL0X2T4DPF</td>\n",
       "      <td>5555991584</td>\n",
       "      <td>bob turnley</td>\n",
       "      <td>[2, 2]</td>\n",
       "      <td>I never thought Enya would reach the sublime h...</td>\n",
       "      <td>5</td>\n",
       "      <td>The best so far</td>\n",
       "      <td>1058140800</td>\n",
       "      <td>07 14, 2003</td>\n",
       "    </tr>\n",
       "    <tr>\n",
       "      <th>3</th>\n",
       "      <td>A22IK3I6U76GX0</td>\n",
       "      <td>5555991584</td>\n",
       "      <td>Calle</td>\n",
       "      <td>[1, 1]</td>\n",
       "      <td>This is the third review of an irish album I w...</td>\n",
       "      <td>5</td>\n",
       "      <td>Ireland produces good music.</td>\n",
       "      <td>957312000</td>\n",
       "      <td>05 3, 2000</td>\n",
       "    </tr>\n",
       "    <tr>\n",
       "      <th>4</th>\n",
       "      <td>A1AISPOIIHTHXX</td>\n",
       "      <td>5555991584</td>\n",
       "      <td>Cloud \"...\"</td>\n",
       "      <td>[1, 1]</td>\n",
       "      <td>Enya, despite being a successful recording art...</td>\n",
       "      <td>4</td>\n",
       "      <td>4.5; music to dream to</td>\n",
       "      <td>1200528000</td>\n",
       "      <td>01 17, 2008</td>\n",
       "    </tr>\n",
       "  </tbody>\n",
       "</table>\n",
       "</div>"
      ],
      "text/plain": [
       "       reviewerID        asin          reviewerName helpful  \\\n",
       "0  A3EBHHCZO6V2A4  5555991584  Amaranth \"music fan\"  [3, 3]   \n",
       "1   AZPWAXJG9OJXV  5555991584             bethtexas  [0, 0]   \n",
       "2  A38IRL0X2T4DPF  5555991584           bob turnley  [2, 2]   \n",
       "3  A22IK3I6U76GX0  5555991584                 Calle  [1, 1]   \n",
       "4  A1AISPOIIHTHXX  5555991584           Cloud \"...\"  [1, 1]   \n",
       "\n",
       "                                          reviewText  overall  \\\n",
       "0  It's hard to believe \"Memory of Trees\" came ou...        5   \n",
       "1  A clasically-styled and introverted album, Mem...        5   \n",
       "2  I never thought Enya would reach the sublime h...        5   \n",
       "3  This is the third review of an irish album I w...        5   \n",
       "4  Enya, despite being a successful recording art...        4   \n",
       "\n",
       "                        summary  unixReviewTime   reviewTime  \n",
       "0       Enya's last great album      1158019200  09 12, 2006  \n",
       "1      Enya at her most elegant       991526400   06 3, 2001  \n",
       "2               The best so far      1058140800  07 14, 2003  \n",
       "3  Ireland produces good music.       957312000   05 3, 2000  \n",
       "4        4.5; music to dream to      1200528000  01 17, 2008  "
      ]
     },
     "execution_count": 7,
     "metadata": {},
     "output_type": "execute_result"
    }
   ],
   "source": [
    "dataset = pd.read_json('./AmazonMusic/Digital_Music_5.json', lines=True)\n",
    "dataset.head()"
   ]
  },
  {
   "cell_type": "code",
   "execution_count": 11,
   "metadata": {
    "colab": {
     "base_uri": "https://localhost:8080/",
     "height": 262
    },
    "executionInfo": {
     "elapsed": 601,
     "status": "ok",
     "timestamp": 1602875068430,
     "user": {
      "displayName": "Arthur Fortes da Costa",
      "photoUrl": "",
      "userId": "07165886726870908895"
     },
     "user_tz": 180
    },
    "id": "QdmnQ42Ep2Ql",
    "outputId": "47669eba-66b0-42c8-82de-fd7d94ea4ab4"
   },
   "outputs": [
    {
     "data": {
      "image/png": "[encoded data removed]",
      "text/plain": [
       "<Figure size 640x480 with 1 Axes>"
      ]
     },
     "metadata": {},
     "output_type": "display_data"
    }
   ],
   "source": [
    "import matplotlib.pyplot as plt\n",
    "\n",
    "dataset.overall.value_counts().plot(kind='bar', color=['r', 'g', 'y', 'c', 'b']);\n",
    "plt.show()"
   ]
  },
  {
   "cell_type": "code",
   "execution_count": 12,
   "metadata": {
    "colab": {
     "base_uri": "https://localhost:8080/",
     "height": 202
    },
    "executionInfo": {
     "elapsed": 579,
     "status": "ok",
     "timestamp": 1602875166577,
     "user": {
      "displayName": "Arthur Fortes da Costa",
      "photoUrl": "",
      "userId": "07165886726870908895"
     },
     "user_tz": 180
    },
    "id": "1VK8tadsp2Qp",
    "outputId": "7b142506-2b4e-4e5a-bced-f10238e6ffc7"
   },
   "outputs": [
    {
     "data": {
      "text/html": [
       "<div>\n",
       "<style scoped>\n",
       "    .dataframe tbody tr th:only-of-type {\n",
       "        vertical-align: middle;\n",
       "    }\n",
       "\n",
       "    .dataframe tbody tr th {\n",
       "        vertical-align: top;\n",
       "    }\n",
       "\n",
       "    .dataframe thead th {\n",
       "        text-align: right;\n",
       "    }\n",
       "</style>\n",
       "<table border=\"1\" class=\"dataframe\">\n",
       "  <thead>\n",
       "    <tr style=\"text-align: right;\">\n",
       "      <th></th>\n",
       "      <th>reviewerID</th>\n",
       "      <th>asin</th>\n",
       "      <th>overall</th>\n",
       "    </tr>\n",
       "  </thead>\n",
       "  <tbody>\n",
       "    <tr>\n",
       "      <th>64701</th>\n",
       "      <td>A1PQ1PESSO8CMO</td>\n",
       "      <td>B00KILDVEI</td>\n",
       "      <td>4</td>\n",
       "    </tr>\n",
       "    <tr>\n",
       "      <th>64702</th>\n",
       "      <td>A120RH58WVY4W6</td>\n",
       "      <td>B00KILDVEI</td>\n",
       "      <td>5</td>\n",
       "    </tr>\n",
       "    <tr>\n",
       "      <th>64703</th>\n",
       "      <td>A19VJ2IQLO50G0</td>\n",
       "      <td>B00KILDVEI</td>\n",
       "      <td>5</td>\n",
       "    </tr>\n",
       "    <tr>\n",
       "      <th>64704</th>\n",
       "      <td>AUDSM2CTLLW1Q</td>\n",
       "      <td>B00KILDVEI</td>\n",
       "      <td>3</td>\n",
       "    </tr>\n",
       "    <tr>\n",
       "      <th>64705</th>\n",
       "      <td>A1GN8UJIZLCA59</td>\n",
       "      <td>B00KILDVEI</td>\n",
       "      <td>1</td>\n",
       "    </tr>\n",
       "  </tbody>\n",
       "</table>\n",
       "</div>"
      ],
      "text/plain": [
       "           reviewerID        asin  overall\n",
       "64701  A1PQ1PESSO8CMO  B00KILDVEI        4\n",
       "64702  A120RH58WVY4W6  B00KILDVEI        5\n",
       "64703  A19VJ2IQLO50G0  B00KILDVEI        5\n",
       "64704   AUDSM2CTLLW1Q  B00KILDVEI        3\n",
       "64705  A1GN8UJIZLCA59  B00KILDVEI        1"
      ]
     },
     "execution_count": 12,
     "metadata": {},
     "output_type": "execute_result"
    }
   ],
   "source": [
    "df = dataset[['reviewerID', 'asin', 'overall']]\n",
    "df.tail()"
   ]
  },
  {
   "cell_type": "code",
   "execution_count": 13,
   "metadata": {
    "colab": {
     "base_uri": "https://localhost:8080/",
     "height": 202
    },
    "executionInfo": {
     "elapsed": 647,
     "status": "ok",
     "timestamp": 1602875212059,
     "user": {
      "displayName": "Arthur Fortes da Costa",
      "photoUrl": "",
      "userId": "07165886726870908895"
     },
     "user_tz": 180
    },
    "id": "qmfmBkdep2Qs",
    "outputId": "73d193fe-d8a4-40a5-e78f-2c584abf6c62"
   },
   "outputs": [
    {
     "data": {
      "text/html": [
       "<div>\n",
       "<style scoped>\n",
       "    .dataframe tbody tr th:only-of-type {\n",
       "        vertical-align: middle;\n",
       "    }\n",
       "\n",
       "    .dataframe tbody tr th {\n",
       "        vertical-align: top;\n",
       "    }\n",
       "\n",
       "    .dataframe thead th {\n",
       "        text-align: right;\n",
       "    }\n",
       "</style>\n",
       "<table border=\"1\" class=\"dataframe\">\n",
       "  <thead>\n",
       "    <tr style=\"text-align: right;\">\n",
       "      <th></th>\n",
       "      <th>reviewerID</th>\n",
       "      <th>asin</th>\n",
       "      <th>overall</th>\n",
       "      <th>title</th>\n",
       "    </tr>\n",
       "  </thead>\n",
       "  <tbody>\n",
       "    <tr>\n",
       "      <th>0</th>\n",
       "      <td>A3EBHHCZO6V2A4</td>\n",
       "      <td>5555991584</td>\n",
       "      <td>5</td>\n",
       "      <td>Memory of Trees</td>\n",
       "    </tr>\n",
       "    <tr>\n",
       "      <th>1</th>\n",
       "      <td>AZPWAXJG9OJXV</td>\n",
       "      <td>5555991584</td>\n",
       "      <td>5</td>\n",
       "      <td>Memory of Trees</td>\n",
       "    </tr>\n",
       "    <tr>\n",
       "      <th>2</th>\n",
       "      <td>A38IRL0X2T4DPF</td>\n",
       "      <td>5555991584</td>\n",
       "      <td>5</td>\n",
       "      <td>Memory of Trees</td>\n",
       "    </tr>\n",
       "    <tr>\n",
       "      <th>3</th>\n",
       "      <td>A22IK3I6U76GX0</td>\n",
       "      <td>5555991584</td>\n",
       "      <td>5</td>\n",
       "      <td>Memory of Trees</td>\n",
       "    </tr>\n",
       "    <tr>\n",
       "      <th>4</th>\n",
       "      <td>A1AISPOIIHTHXX</td>\n",
       "      <td>5555991584</td>\n",
       "      <td>4</td>\n",
       "      <td>Memory of Trees</td>\n",
       "    </tr>\n",
       "  </tbody>\n",
       "</table>\n",
       "</div>"
      ],
      "text/plain": [
       "       reviewerID        asin  overall            title\n",
       "0  A3EBHHCZO6V2A4  5555991584        5  Memory of Trees\n",
       "1   AZPWAXJG9OJXV  5555991584        5  Memory of Trees\n",
       "2  A38IRL0X2T4DPF  5555991584        5  Memory of Trees\n",
       "3  A22IK3I6U76GX0  5555991584        5  Memory of Trees\n",
       "4  A1AISPOIIHTHXX  5555991584        4  Memory of Trees"
      ]
     },
     "execution_count": 13,
     "metadata": {},
     "output_type": "execute_result"
    }
   ],
   "source": [
    "df = df.merge(dataset_metadata[['asin', 'title']])\n",
    "df.head()"
   ]
  },
  {
   "cell_type": "markdown",
   "metadata": {
    "id": "vkgi6EY8p2Q0"
   },
   "source": [
    "### Números de usuários e número de itens"
   ]
  },
  {
   "cell_type": "code",
   "execution_count": 14,
   "metadata": {
    "colab": {
     "base_uri": "https://localhost:8080/",
     "height": 104
    },
    "executionInfo": {
     "elapsed": 742,
     "status": "ok",
     "timestamp": 1602875223661,
     "user": {
      "displayName": "Arthur Fortes da Costa",
      "photoUrl": "",
      "userId": "07165886726870908895"
     },
     "user_tz": 180
    },
    "id": "Oqm9TqFUp2Q0",
    "outputId": "c4df29d6-5dca-4ace-ae57-2d38fd175b48"
   },
   "outputs": [
    {
     "name": "stdout",
     "output_type": "stream",
     "text": [
      "\n",
      "Número de usuários: 5148\n",
      "Número de itens: 2582\n",
      "Número de interações: 51796\n",
      "\n"
     ]
    }
   ],
   "source": [
    "print(\n",
    "\"\"\"\n",
    "Número de usuários: {}\n",
    "Número de itens: {}\n",
    "Número de interações: {}\n",
    "\"\"\".format(\n",
    "    df.reviewerID.nunique(),\n",
    "    df.asin.nunique(),\n",
    "    df.shape[0]\n",
    ")\n",
    ")"
   ]
  },
  {
   "cell_type": "markdown",
   "metadata": {
    "id": "9oUxIUefp2Q4"
   },
   "source": [
    "### Mapeamento em idx"
   ]
  },
  {
   "cell_type": "code",
   "execution_count": 15,
   "metadata": {
    "executionInfo": {
     "elapsed": 621,
     "status": "ok",
     "timestamp": 1602875283304,
     "user": {
      "displayName": "Arthur Fortes da Costa",
      "photoUrl": "",
      "userId": "07165886726870908895"
     },
     "user_tz": 180
    },
    "id": "_xDUH3kbp2Q4"
   },
   "outputs": [],
   "source": [
    "map_users = {user: idx for idx, user in enumerate(df.reviewerID.unique())}\n",
    "map_items = {item: idx for idx, item in enumerate(df.asin.unique())}"
   ]
  },
  {
   "cell_type": "code",
   "execution_count": 16,
   "metadata": {
    "colab": {
     "base_uri": "https://localhost:8080/",
     "height": 415
    },
    "executionInfo": {
     "elapsed": 742,
     "status": "ok",
     "timestamp": 1602875451956,
     "user": {
      "displayName": "Arthur Fortes da Costa",
      "photoUrl": "",
      "userId": "07165886726870908895"
     },
     "user_tz": 180
    },
    "id": "kqkGY2php2Q8",
    "outputId": "399d6afe-c220-4f2d-eedf-ba4a800fc208"
   },
   "outputs": [
    {
     "data": {
      "text/html": [
       "<div>\n",
       "<style scoped>\n",
       "    .dataframe tbody tr th:only-of-type {\n",
       "        vertical-align: middle;\n",
       "    }\n",
       "\n",
       "    .dataframe tbody tr th {\n",
       "        vertical-align: top;\n",
       "    }\n",
       "\n",
       "    .dataframe thead th {\n",
       "        text-align: right;\n",
       "    }\n",
       "</style>\n",
       "<table border=\"1\" class=\"dataframe\">\n",
       "  <thead>\n",
       "    <tr style=\"text-align: right;\">\n",
       "      <th></th>\n",
       "      <th>reviewerID</th>\n",
       "      <th>asin</th>\n",
       "      <th>overall</th>\n",
       "      <th>title</th>\n",
       "    </tr>\n",
       "  </thead>\n",
       "  <tbody>\n",
       "    <tr>\n",
       "      <th>0</th>\n",
       "      <td>0</td>\n",
       "      <td>0</td>\n",
       "      <td>5</td>\n",
       "      <td>Memory of Trees</td>\n",
       "    </tr>\n",
       "    <tr>\n",
       "      <th>1</th>\n",
       "      <td>1</td>\n",
       "      <td>0</td>\n",
       "      <td>5</td>\n",
       "      <td>Memory of Trees</td>\n",
       "    </tr>\n",
       "    <tr>\n",
       "      <th>2</th>\n",
       "      <td>2</td>\n",
       "      <td>0</td>\n",
       "      <td>5</td>\n",
       "      <td>Memory of Trees</td>\n",
       "    </tr>\n",
       "    <tr>\n",
       "      <th>3</th>\n",
       "      <td>3</td>\n",
       "      <td>0</td>\n",
       "      <td>5</td>\n",
       "      <td>Memory of Trees</td>\n",
       "    </tr>\n",
       "    <tr>\n",
       "      <th>4</th>\n",
       "      <td>4</td>\n",
       "      <td>0</td>\n",
       "      <td>4</td>\n",
       "      <td>Memory of Trees</td>\n",
       "    </tr>\n",
       "    <tr>\n",
       "      <th>...</th>\n",
       "      <td>...</td>\n",
       "      <td>...</td>\n",
       "      <td>...</td>\n",
       "      <td>...</td>\n",
       "    </tr>\n",
       "    <tr>\n",
       "      <th>51791</th>\n",
       "      <td>3844</td>\n",
       "      <td>2581</td>\n",
       "      <td>5</td>\n",
       "      <td>The Best Of Survivor</td>\n",
       "    </tr>\n",
       "    <tr>\n",
       "      <th>51792</th>\n",
       "      <td>1071</td>\n",
       "      <td>2581</td>\n",
       "      <td>3</td>\n",
       "      <td>The Best Of Survivor</td>\n",
       "    </tr>\n",
       "    <tr>\n",
       "      <th>51793</th>\n",
       "      <td>3469</td>\n",
       "      <td>2581</td>\n",
       "      <td>5</td>\n",
       "      <td>The Best Of Survivor</td>\n",
       "    </tr>\n",
       "    <tr>\n",
       "      <th>51794</th>\n",
       "      <td>2837</td>\n",
       "      <td>2581</td>\n",
       "      <td>5</td>\n",
       "      <td>The Best Of Survivor</td>\n",
       "    </tr>\n",
       "    <tr>\n",
       "      <th>51795</th>\n",
       "      <td>76</td>\n",
       "      <td>2581</td>\n",
       "      <td>5</td>\n",
       "      <td>The Best Of Survivor</td>\n",
       "    </tr>\n",
       "  </tbody>\n",
       "</table>\n",
       "<p>51796 rows × 4 columns</p>\n",
       "</div>"
      ],
      "text/plain": [
       "       reviewerID  asin  overall                 title\n",
       "0               0     0        5       Memory of Trees\n",
       "1               1     0        5       Memory of Trees\n",
       "2               2     0        5       Memory of Trees\n",
       "3               3     0        5       Memory of Trees\n",
       "4               4     0        4       Memory of Trees\n",
       "...           ...   ...      ...                   ...\n",
       "51791        3844  2581        5  The Best Of Survivor\n",
       "51792        1071  2581        3  The Best Of Survivor\n",
       "51793        3469  2581        5  The Best Of Survivor\n",
       "51794        2837  2581        5  The Best Of Survivor\n",
       "51795          76  2581        5  The Best Of Survivor\n",
       "\n",
       "[51796 rows x 4 columns]"
      ]
     },
     "execution_count": 16,
     "metadata": {},
     "output_type": "execute_result"
    }
   ],
   "source": [
    "df['reviewerID'] = df['reviewerID'].map(map_users)\n",
    "df['asin'] = df['asin'].map(map_items)\n",
    "df"
   ]
  },
  {
   "cell_type": "code",
   "execution_count": 17,
   "metadata": {
    "executionInfo": {
     "elapsed": 5559,
     "status": "ok",
     "timestamp": 1602875478436,
     "user": {
      "displayName": "Arthur Fortes da Costa",
      "photoUrl": "",
      "userId": "07165886726870908895"
     },
     "user_tz": 180
    },
    "id": "StWvDa5Gp2Q_"
   },
   "outputs": [],
   "source": [
    "map_title = {}\n",
    "\n",
    "for _, row in df.iterrows():\n",
    "    map_title[row.asin] = row.title"
   ]
  },
  {
   "cell_type": "code",
   "execution_count": 18,
   "metadata": {
    "colab": {
     "base_uri": "https://localhost:8080/",
     "height": 35
    },
    "executionInfo": {
     "elapsed": 796,
     "status": "ok",
     "timestamp": 1602875479235,
     "user": {
      "displayName": "Arthur Fortes da Costa",
      "photoUrl": "",
      "userId": "07165886726870908895"
     },
     "user_tz": 180
    },
    "id": "XLTWg-F9p2RD",
    "outputId": "20d01497-037c-4a17-8dad-647eb71976a4"
   },
   "outputs": [
    {
     "data": {
      "text/plain": [
       "'Night Ride Home'"
      ]
     },
     "execution_count": 18,
     "metadata": {},
     "output_type": "execute_result"
    }
   ],
   "source": [
    "len(map_title)\n",
    "map_title[100]"
   ]
  },
  {
   "cell_type": "code",
   "execution_count": 19,
   "metadata": {
    "colab": {
     "base_uri": "https://localhost:8080/",
     "height": 446
    },
    "executionInfo": {
     "elapsed": 747,
     "status": "ok",
     "timestamp": 1602875481448,
     "user": {
      "displayName": "Arthur Fortes da Costa",
      "photoUrl": "",
      "userId": "07165886726870908895"
     },
     "user_tz": 180
    },
    "id": "35C82h7op2RH",
    "outputId": "f586cf62-983e-4304-af0b-8e206beeacd5"
   },
   "outputs": [
    {
     "data": {
      "text/html": [
       "<div>\n",
       "<style scoped>\n",
       "    .dataframe tbody tr th:only-of-type {\n",
       "        vertical-align: middle;\n",
       "    }\n",
       "\n",
       "    .dataframe tbody tr th {\n",
       "        vertical-align: top;\n",
       "    }\n",
       "\n",
       "    .dataframe thead th {\n",
       "        text-align: right;\n",
       "    }\n",
       "</style>\n",
       "<table border=\"1\" class=\"dataframe\">\n",
       "  <thead>\n",
       "    <tr style=\"text-align: right;\">\n",
       "      <th></th>\n",
       "      <th>asin</th>\n",
       "      <th>overall</th>\n",
       "      <th>title</th>\n",
       "    </tr>\n",
       "    <tr>\n",
       "      <th>reviewerID</th>\n",
       "      <th></th>\n",
       "      <th></th>\n",
       "      <th></th>\n",
       "    </tr>\n",
       "  </thead>\n",
       "  <tbody>\n",
       "    <tr>\n",
       "      <th>0</th>\n",
       "      <td>7</td>\n",
       "      <td>7</td>\n",
       "      <td>7</td>\n",
       "    </tr>\n",
       "    <tr>\n",
       "      <th>1</th>\n",
       "      <td>16</td>\n",
       "      <td>16</td>\n",
       "      <td>16</td>\n",
       "    </tr>\n",
       "    <tr>\n",
       "      <th>2</th>\n",
       "      <td>12</td>\n",
       "      <td>12</td>\n",
       "      <td>12</td>\n",
       "    </tr>\n",
       "    <tr>\n",
       "      <th>3</th>\n",
       "      <td>6</td>\n",
       "      <td>6</td>\n",
       "      <td>6</td>\n",
       "    </tr>\n",
       "    <tr>\n",
       "      <th>4</th>\n",
       "      <td>5</td>\n",
       "      <td>5</td>\n",
       "      <td>5</td>\n",
       "    </tr>\n",
       "    <tr>\n",
       "      <th>...</th>\n",
       "      <td>...</td>\n",
       "      <td>...</td>\n",
       "      <td>...</td>\n",
       "    </tr>\n",
       "    <tr>\n",
       "      <th>5143</th>\n",
       "      <td>1</td>\n",
       "      <td>1</td>\n",
       "      <td>1</td>\n",
       "    </tr>\n",
       "    <tr>\n",
       "      <th>5144</th>\n",
       "      <td>1</td>\n",
       "      <td>1</td>\n",
       "      <td>1</td>\n",
       "    </tr>\n",
       "    <tr>\n",
       "      <th>5145</th>\n",
       "      <td>1</td>\n",
       "      <td>1</td>\n",
       "      <td>1</td>\n",
       "    </tr>\n",
       "    <tr>\n",
       "      <th>5146</th>\n",
       "      <td>1</td>\n",
       "      <td>1</td>\n",
       "      <td>1</td>\n",
       "    </tr>\n",
       "    <tr>\n",
       "      <th>5147</th>\n",
       "      <td>1</td>\n",
       "      <td>1</td>\n",
       "      <td>1</td>\n",
       "    </tr>\n",
       "  </tbody>\n",
       "</table>\n",
       "<p>5148 rows × 3 columns</p>\n",
       "</div>"
      ],
      "text/plain": [
       "            asin  overall  title\n",
       "reviewerID                      \n",
       "0              7        7      7\n",
       "1             16       16     16\n",
       "2             12       12     12\n",
       "3              6        6      6\n",
       "4              5        5      5\n",
       "...          ...      ...    ...\n",
       "5143           1        1      1\n",
       "5144           1        1      1\n",
       "5145           1        1      1\n",
       "5146           1        1      1\n",
       "5147           1        1      1\n",
       "\n",
       "[5148 rows x 3 columns]"
      ]
     },
     "execution_count": 19,
     "metadata": {},
     "output_type": "execute_result"
    }
   ],
   "source": [
    "# qtd interações dos usuários\n",
    "df.groupby('reviewerID').count()"
   ]
  },
  {
   "cell_type": "markdown",
   "metadata": {
    "id": "x8Ln0a1vp2RL"
   },
   "source": [
    "### Divisão do dataset"
   ]
  },
  {
   "cell_type": "code",
   "execution_count": 20,
   "metadata": {
    "executionInfo": {
     "elapsed": 1146,
     "status": "ok",
     "timestamp": 1602875519307,
     "user": {
      "displayName": "Arthur Fortes da Costa",
      "photoUrl": "",
      "userId": "07165886726870908895"
     },
     "user_tz": 180
    },
    "id": "9MsDESQ_p2RM"
   },
   "outputs": [],
   "source": [
    "from sklearn.model_selection import train_test_split"
   ]
  },
  {
   "cell_type": "code",
   "execution_count": 21,
   "metadata": {
    "executionInfo": {
     "elapsed": 607,
     "status": "ok",
     "timestamp": 1602875528790,
     "user": {
      "displayName": "Arthur Fortes da Costa",
      "photoUrl": "",
      "userId": "07165886726870908895"
     },
     "user_tz": 180
    },
    "id": "rp0dxEd0p2RR"
   },
   "outputs": [],
   "source": [
    "train, test = train_test_split(df, test_size=.2, random_state=2)"
   ]
  },
  {
   "cell_type": "code",
   "execution_count": 22,
   "metadata": {
    "executionInfo": {
     "elapsed": 551,
     "status": "ok",
     "timestamp": 1602875571418,
     "user": {
      "displayName": "Arthur Fortes da Costa",
      "photoUrl": "",
      "userId": "07165886726870908895"
     },
     "user_tz": 180
    },
    "id": "GpV8_YuQp2RU"
   },
   "outputs": [],
   "source": [
    "train.to_csv('train.txt', index=False, header=False, sep='\\t')\n",
    "test.to_csv('test.txt', index=False, header=False, sep='\\t')"
   ]
  },
  {
   "cell_type": "code",
   "execution_count": 23,
   "metadata": {
    "colab": {
     "base_uri": "https://localhost:8080/",
     "height": 121
    },
    "executionInfo": {
     "elapsed": 550,
     "status": "ok",
     "timestamp": 1602875572429,
     "user": {
      "displayName": "Arthur Fortes da Costa",
      "photoUrl": "",
      "userId": "07165886726870908895"
     },
     "user_tz": 180
    },
    "id": "n6HTzcwsp2RX",
    "outputId": "b70ba38c-bf05-42fd-96a3-4d97e807ee68"
   },
   "outputs": [
    {
     "name": "stdout",
     "output_type": "stream",
     "text": [
      "total 104344\r\n",
      "-rw-rw-r--@ 1 manzato  staff   2820977 Sep 28 14:24 3. Algoritmos Não Personalizados.pptx\r\n",
      "drwxr-xr-x  6 manzato  staff       192 Sep 29 14:20 \u001b[34mAmazonMusic\u001b[m\u001b[m\r\n",
      "-rw-r--r--  1 manzato  staff  23861964 Sep 29 14:20 AmazonMusic.tar (1).xz\r\n",
      "-rw-r--r--  1 manzato  staff  23861964 Sep 29 14:18 AmazonMusic.tar.xz\r\n",
      "-rw-rw-r--@ 2 manzato  staff     92207 Sep 29 14:56 Recomendação Não Personalizada.ipynb\r\n",
      "-rw-r--r--  1 manzato  staff     74632 Jul 18  2020 dict_title.npy\r\n",
      "-rw-r--r--  1 manzato  staff    291777 Sep 29 14:56 test.txt\r\n",
      "-rw-r--r--  1 manzato  staff   1177686 Sep 29 14:56 train.txt\r\n"
     ]
    }
   ],
   "source": [
    "! ls -l"
   ]
  },
  {
   "cell_type": "code",
   "execution_count": 24,
   "metadata": {
    "colab": {
     "base_uri": "https://localhost:8080/",
     "height": 35
    },
    "executionInfo": {
     "elapsed": 559,
     "status": "ok",
     "timestamp": 1602875585517,
     "user": {
      "displayName": "Arthur Fortes da Costa",
      "photoUrl": "",
      "userId": "07165886726870908895"
     },
     "user_tz": 180
    },
    "id": "RFZhUjCnp2Rb",
    "outputId": "98e54570-a457-4d43-9dd0-ad8c80be1373"
   },
   "outputs": [
    {
     "data": {
      "text/plain": [
       "(10360, 41436)"
      ]
     },
     "execution_count": 24,
     "metadata": {},
     "output_type": "execute_result"
    }
   ],
   "source": [
    "test.shape[0], train.shape[0]"
   ]
  },
  {
   "cell_type": "markdown",
   "metadata": {
    "id": "VVWZRptBp2Re"
   },
   "source": [
    "### Recomendadores"
   ]
  },
  {
   "cell_type": "markdown",
   "metadata": {
    "id": "ajH3hUALp2Re"
   },
   "source": [
    "## Prever notas"
   ]
  },
  {
   "cell_type": "code",
   "execution_count": 25,
   "metadata": {
    "executionInfo": {
     "elapsed": 588,
     "status": "ok",
     "timestamp": 1602875614804,
     "user": {
      "displayName": "Arthur Fortes da Costa",
      "photoUrl": "",
      "userId": "07165886726870908895"
     },
     "user_tz": 180
    },
    "id": "foa1ePfOp2Rf"
   },
   "outputs": [],
   "source": [
    "from caserec.recommenders.rating_prediction.most_popular import MostPopular"
   ]
  },
  {
   "cell_type": "code",
   "execution_count": 26,
   "metadata": {
    "colab": {
     "base_uri": "https://localhost:8080/",
     "height": 173
    },
    "executionInfo": {
     "elapsed": 1719,
     "status": "ok",
     "timestamp": 1602875664819,
     "user": {
      "displayName": "Arthur Fortes da Costa",
      "photoUrl": "",
      "userId": "07165886726870908895"
     },
     "user_tz": 180
    },
    "id": "2ud84_kMp2Rh",
    "outputId": "77f78711-8238-4a50-ba3a-b8b18060430c"
   },
   "outputs": [
    {
     "name": "stdout",
     "output_type": "stream",
     "text": [
      "[Case Recommender: Rating Prediction > Most Popular]\n",
      "\n",
      "train data:: 5099 users and 2582 items (41436 interactions) | sparsity:: 99.69%\n",
      "test data:: 3818 users and 2288 items (10360 interactions) | sparsity:: 99.88%\n",
      "\n",
      "prediction_time:: 0.388997 sec\n",
      "\n",
      "\n",
      "Eval:: MAE: 0.741405 RMSE: 1.001254 \n"
     ]
    }
   ],
   "source": [
    "MostPopular('train.txt', 'test.txt', 'out_mp_pred.txt').compute()"
   ]
  },
  {
   "cell_type": "code",
   "execution_count": 27,
   "metadata": {
    "colab": {
     "base_uri": "https://localhost:8080/",
     "height": 202
    },
    "executionInfo": {
     "elapsed": 602,
     "status": "ok",
     "timestamp": 1602875710486,
     "user": {
      "displayName": "Arthur Fortes da Costa",
      "photoUrl": "",
      "userId": "07165886726870908895"
     },
     "user_tz": 180
    },
    "id": "wESMpB0kp2Rk",
    "outputId": "4ea51642-fb89-433e-8176-71c97e9ed7c5"
   },
   "outputs": [
    {
     "data": {
      "text/html": [
       "<div>\n",
       "<style scoped>\n",
       "    .dataframe tbody tr th:only-of-type {\n",
       "        vertical-align: middle;\n",
       "    }\n",
       "\n",
       "    .dataframe tbody tr th {\n",
       "        vertical-align: top;\n",
       "    }\n",
       "\n",
       "    .dataframe thead th {\n",
       "        text-align: right;\n",
       "    }\n",
       "</style>\n",
       "<table border=\"1\" class=\"dataframe\">\n",
       "  <thead>\n",
       "    <tr style=\"text-align: right;\">\n",
       "      <th></th>\n",
       "      <th>reviewerID</th>\n",
       "      <th>asin</th>\n",
       "      <th>pred</th>\n",
       "    </tr>\n",
       "  </thead>\n",
       "  <tbody>\n",
       "    <tr>\n",
       "      <th>0</th>\n",
       "      <td>0</td>\n",
       "      <td>0</td>\n",
       "      <td>4.722222</td>\n",
       "    </tr>\n",
       "    <tr>\n",
       "      <th>1</th>\n",
       "      <td>0</td>\n",
       "      <td>959</td>\n",
       "      <td>4.394737</td>\n",
       "    </tr>\n",
       "    <tr>\n",
       "      <th>2</th>\n",
       "      <td>1</td>\n",
       "      <td>667</td>\n",
       "      <td>4.809524</td>\n",
       "    </tr>\n",
       "    <tr>\n",
       "      <th>3</th>\n",
       "      <td>2</td>\n",
       "      <td>428</td>\n",
       "      <td>4.529412</td>\n",
       "    </tr>\n",
       "    <tr>\n",
       "      <th>4</th>\n",
       "      <td>2</td>\n",
       "      <td>0</td>\n",
       "      <td>4.722222</td>\n",
       "    </tr>\n",
       "  </tbody>\n",
       "</table>\n",
       "</div>"
      ],
      "text/plain": [
       "   reviewerID  asin      pred\n",
       "0           0     0  4.722222\n",
       "1           0   959  4.394737\n",
       "2           1   667  4.809524\n",
       "3           2   428  4.529412\n",
       "4           2     0  4.722222"
      ]
     },
     "execution_count": 27,
     "metadata": {},
     "output_type": "execute_result"
    }
   ],
   "source": [
    "df_pred = pd.read_csv('out_mp_pred.txt', sep='\\t', names=['reviewerID', 'asin', 'pred'])\n",
    "df_pred.head()"
   ]
  },
  {
   "cell_type": "code",
   "execution_count": 28,
   "metadata": {
    "colab": {
     "base_uri": "https://localhost:8080/",
     "height": 110
    },
    "executionInfo": {
     "elapsed": 585,
     "status": "ok",
     "timestamp": 1602875715862,
     "user": {
      "displayName": "Arthur Fortes da Costa",
      "photoUrl": "",
      "userId": "07165886726870908895"
     },
     "user_tz": 180
    },
    "id": "aGUl8yVyp2Rn",
    "outputId": "3b0bd967-1159-4a3f-f2c3-b9f2fa37c74a"
   },
   "outputs": [
    {
     "data": {
      "text/html": [
       "<div>\n",
       "<style scoped>\n",
       "    .dataframe tbody tr th:only-of-type {\n",
       "        vertical-align: middle;\n",
       "    }\n",
       "\n",
       "    .dataframe tbody tr th {\n",
       "        vertical-align: top;\n",
       "    }\n",
       "\n",
       "    .dataframe thead th {\n",
       "        text-align: right;\n",
       "    }\n",
       "</style>\n",
       "<table border=\"1\" class=\"dataframe\">\n",
       "  <thead>\n",
       "    <tr style=\"text-align: right;\">\n",
       "      <th></th>\n",
       "      <th>reviewerID</th>\n",
       "      <th>asin</th>\n",
       "      <th>overall</th>\n",
       "      <th>title</th>\n",
       "    </tr>\n",
       "  </thead>\n",
       "  <tbody>\n",
       "    <tr>\n",
       "      <th>0</th>\n",
       "      <td>0</td>\n",
       "      <td>0</td>\n",
       "      <td>5</td>\n",
       "      <td>Memory of Trees</td>\n",
       "    </tr>\n",
       "    <tr>\n",
       "      <th>18167</th>\n",
       "      <td>0</td>\n",
       "      <td>959</td>\n",
       "      <td>5</td>\n",
       "      <td>Ray of Light</td>\n",
       "    </tr>\n",
       "  </tbody>\n",
       "</table>\n",
       "</div>"
      ],
      "text/plain": [
       "       reviewerID  asin  overall            title\n",
       "0               0     0        5  Memory of Trees\n",
       "18167           0   959        5     Ray of Light"
      ]
     },
     "execution_count": 28,
     "metadata": {},
     "output_type": "execute_result"
    }
   ],
   "source": [
    "test[test.reviewerID == 0]"
   ]
  },
  {
   "cell_type": "code",
   "execution_count": 29,
   "metadata": {
    "executionInfo": {
     "elapsed": 607,
     "status": "ok",
     "timestamp": 1602875770913,
     "user": {
      "displayName": "Arthur Fortes da Costa",
      "photoUrl": "",
      "userId": "07165886726870908895"
     },
     "user_tz": 180
    },
    "id": "x-VuIIi3p2Rp"
   },
   "outputs": [],
   "source": [
    "df_pred = df_pred.merge(test)"
   ]
  },
  {
   "cell_type": "code",
   "execution_count": 31,
   "metadata": {
    "colab": {
     "base_uri": "https://localhost:8080/",
     "height": 279
    },
    "executionInfo": {
     "elapsed": 591,
     "status": "ok",
     "timestamp": 1602875773067,
     "user": {
      "displayName": "Arthur Fortes da Costa",
      "photoUrl": "",
      "userId": "07165886726870908895"
     },
     "user_tz": 180
    },
    "id": "PNYXk7pfp2Rs",
    "outputId": "508bd2d1-11ef-414b-becd-eb33106f5437"
   },
   "outputs": [
    {
     "data": {
      "image/png": "[encoded data removed]",
      "text/plain": [
       "<Figure size 640x480 with 1 Axes>"
      ]
     },
     "metadata": {},
     "output_type": "display_data"
    }
   ],
   "source": [
    "df_pred.overall.value_counts().plot(kind='bar')\n",
    "plt.show()"
   ]
  },
  {
   "cell_type": "code",
   "execution_count": 32,
   "metadata": {
    "colab": {
     "base_uri": "https://localhost:8080/",
     "height": 262
    },
    "executionInfo": {
     "elapsed": 885,
     "status": "ok",
     "timestamp": 1602875783041,
     "user": {
      "displayName": "Arthur Fortes da Costa",
      "photoUrl": "",
      "userId": "07165886726870908895"
     },
     "user_tz": 180
    },
    "id": "WCQJA5q8p2Rv",
    "outputId": "c1e58ac9-b77b-46ca-8d39-2bd4b37f45ee"
   },
   "outputs": [
    {
     "data": {
      "image/png": "[encoded data removed]",
      "text/plain": [
       "<Figure size 640x480 with 1 Axes>"
      ]
     },
     "metadata": {},
     "output_type": "display_data"
    }
   ],
   "source": [
    "df_pred['pred'] = df_pred['pred'].apply(round) \n",
    "df_pred.pred.value_counts().plot(kind='bar');\n",
    "plt.show()"
   ]
  },
  {
   "cell_type": "markdown",
   "metadata": {
    "id": "PwB7U14up2Ry"
   },
   "source": [
    "### Top N"
   ]
  },
  {
   "cell_type": "code",
   "execution_count": 33,
   "metadata": {
    "executionInfo": {
     "elapsed": 632,
     "status": "ok",
     "timestamp": 1602875850668,
     "user": {
      "displayName": "Arthur Fortes da Costa",
      "photoUrl": "",
      "userId": "07165886726870908895"
     },
     "user_tz": 180
    },
    "id": "uOuJBF2lp2Rz"
   },
   "outputs": [],
   "source": [
    "from caserec.recommenders.item_recommendation.most_popular import MostPopular as MPR"
   ]
  },
  {
   "cell_type": "code",
   "execution_count": 34,
   "metadata": {
    "colab": {
     "base_uri": "https://localhost:8080/",
     "height": 193
    },
    "executionInfo": {
     "elapsed": 80941,
     "status": "ok",
     "timestamp": 1602875937198,
     "user": {
      "displayName": "Arthur Fortes da Costa",
      "photoUrl": "",
      "userId": "07165886726870908895"
     },
     "user_tz": 180
    },
    "id": "LbNmDiM3p2R2",
    "outputId": "ceb122b1-b3ad-40b7-e2f4-f9ca52f79bbb"
   },
   "outputs": [
    {
     "name": "stdout",
     "output_type": "stream",
     "text": [
      "[Case Recommender: Item Recommendation > Most Popular]\n",
      "\n",
      "train data:: 5099 users and 2582 items (41436 interactions) | sparsity:: 99.69%\n",
      "test data:: 3818 users and 2288 items (10360 interactions) | sparsity:: 99.88%\n",
      "\n",
      "prediction_time:: 37.846303 sec\n",
      "\n",
      "\n",
      "Eval:: PREC@1: 0.016763 PREC@3: 0.012397 PREC@5: 0.011158 PREC@10: 0.010739 RECALL@1: 0.006064 RECALL@3: 0.014079 RECALL@5: 0.021043 RECALL@10: 0.042721 MAP@1: 0.016763 MAP@3: 0.024424 MAP@5: 0.027933 MAP@10: 0.031907 NDCG@1: 0.016763 NDCG@3: 0.031874 NDCG@5: 0.039165 NDCG@10: 0.051415 \n"
     ]
    }
   ],
   "source": [
    "MPR('train.txt', 'test.txt', 'out_mp_pred.txt').compute()"
   ]
  },
  {
   "cell_type": "code",
   "execution_count": 35,
   "metadata": {
    "colab": {
     "base_uri": "https://localhost:8080/",
     "height": 191
    },
    "executionInfo": {
     "elapsed": 9922,
     "status": "ok",
     "timestamp": 1602876061752,
     "user": {
      "displayName": "Arthur Fortes da Costa",
      "photoUrl": "",
      "userId": "07165886726870908895"
     },
     "user_tz": 180
    },
    "id": "3-ir7MKYp2R4",
    "outputId": "f5c9b315-7f7f-458c-d34f-5913998ce08f"
   },
   "outputs": [
    {
     "name": "stdout",
     "output_type": "stream",
     "text": [
      "[Case Recommender: Item Recommendation > Most Popular]\n",
      "\n",
      "train data:: 5099 users and 2582 items (41436 interactions) | sparsity:: 99.69%\n",
      "test data:: 3818 users and 2288 items (10360 interactions) | sparsity:: 99.88%\n",
      "\n",
      "prediction_time:: 4.421495 sec\n",
      "\n",
      "\n",
      "PREC@1\tPREC@3\tPREC@5\tPREC@10\t\n",
      "0.017287\t0.014493\t0.012886\t0.011001\t\n"
     ]
    }
   ],
   "source": [
    "MPR('train.txt', 'test.txt', 'out_mp_pred_binary.txt', as_binary=True).compute(as_table=True, metrics=['PREC'])"
   ]
  },
  {
   "cell_type": "code",
   "execution_count": 36,
   "metadata": {
    "colab": {
     "base_uri": "https://localhost:8080/",
     "height": 509
    },
    "executionInfo": {
     "elapsed": 612,
     "status": "ok",
     "timestamp": 1602876147883,
     "user": {
      "displayName": "Arthur Fortes da Costa",
      "photoUrl": "",
      "userId": "07165886726870908895"
     },
     "user_tz": 180
    },
    "id": "iTghJ5ndp2R7",
    "outputId": "8a7604d6-6631-4583-9245-679406a5d360"
   },
   "outputs": [
    {
     "data": {
      "text/html": [
       "<div>\n",
       "<style scoped>\n",
       "    .dataframe tbody tr th:only-of-type {\n",
       "        vertical-align: middle;\n",
       "    }\n",
       "\n",
       "    .dataframe tbody tr th {\n",
       "        vertical-align: top;\n",
       "    }\n",
       "\n",
       "    .dataframe thead th {\n",
       "        text-align: right;\n",
       "    }\n",
       "</style>\n",
       "<table border=\"1\" class=\"dataframe\">\n",
       "  <thead>\n",
       "    <tr style=\"text-align: right;\">\n",
       "      <th></th>\n",
       "      <th>reviewerID</th>\n",
       "      <th>asin</th>\n",
       "      <th>score</th>\n",
       "      <th>title</th>\n",
       "    </tr>\n",
       "  </thead>\n",
       "  <tbody>\n",
       "    <tr>\n",
       "      <th>0</th>\n",
       "      <td>0</td>\n",
       "      <td>2133</td>\n",
       "      <td>777.0</td>\n",
       "      <td>Get Rich Or Die Tryin</td>\n",
       "    </tr>\n",
       "    <tr>\n",
       "      <th>1</th>\n",
       "      <td>0</td>\n",
       "      <td>1770</td>\n",
       "      <td>693.0</td>\n",
       "      <td>The Marshall Mathers LP</td>\n",
       "    </tr>\n",
       "    <tr>\n",
       "      <th>2</th>\n",
       "      <td>0</td>\n",
       "      <td>2039</td>\n",
       "      <td>660.0</td>\n",
       "      <td>The Eminem Show [Limited Edition w/ Bonus DVD]</td>\n",
       "    </tr>\n",
       "    <tr>\n",
       "      <th>3</th>\n",
       "      <td>0</td>\n",
       "      <td>169</td>\n",
       "      <td>632.0</td>\n",
       "      <td>All Eyez on Me</td>\n",
       "    </tr>\n",
       "    <tr>\n",
       "      <th>4</th>\n",
       "      <td>0</td>\n",
       "      <td>459</td>\n",
       "      <td>607.0</td>\n",
       "      <td>Thriller</td>\n",
       "    </tr>\n",
       "    <tr>\n",
       "      <th>5</th>\n",
       "      <td>0</td>\n",
       "      <td>1955</td>\n",
       "      <td>598.0</td>\n",
       "      <td>Blueprint</td>\n",
       "    </tr>\n",
       "    <tr>\n",
       "      <th>6</th>\n",
       "      <td>0</td>\n",
       "      <td>2212</td>\n",
       "      <td>594.0</td>\n",
       "      <td>Speakerboxxx/ The Love Below</td>\n",
       "    </tr>\n",
       "    <tr>\n",
       "      <th>7</th>\n",
       "      <td>0</td>\n",
       "      <td>2408</td>\n",
       "      <td>564.0</td>\n",
       "      <td>The Documentary</td>\n",
       "    </tr>\n",
       "    <tr>\n",
       "      <th>8</th>\n",
       "      <td>0</td>\n",
       "      <td>992</td>\n",
       "      <td>559.0</td>\n",
       "      <td>Are You Experienced</td>\n",
       "    </tr>\n",
       "    <tr>\n",
       "      <th>9</th>\n",
       "      <td>0</td>\n",
       "      <td>1666</td>\n",
       "      <td>545.0</td>\n",
       "      <td>Chronic 2001</td>\n",
       "    </tr>\n",
       "    <tr>\n",
       "      <th>10</th>\n",
       "      <td>1</td>\n",
       "      <td>2133</td>\n",
       "      <td>777.0</td>\n",
       "      <td>Get Rich Or Die Tryin</td>\n",
       "    </tr>\n",
       "    <tr>\n",
       "      <th>11</th>\n",
       "      <td>1</td>\n",
       "      <td>1770</td>\n",
       "      <td>693.0</td>\n",
       "      <td>The Marshall Mathers LP</td>\n",
       "    </tr>\n",
       "    <tr>\n",
       "      <th>12</th>\n",
       "      <td>1</td>\n",
       "      <td>2039</td>\n",
       "      <td>660.0</td>\n",
       "      <td>The Eminem Show [Limited Edition w/ Bonus DVD]</td>\n",
       "    </tr>\n",
       "    <tr>\n",
       "      <th>13</th>\n",
       "      <td>1</td>\n",
       "      <td>169</td>\n",
       "      <td>632.0</td>\n",
       "      <td>All Eyez on Me</td>\n",
       "    </tr>\n",
       "    <tr>\n",
       "      <th>14</th>\n",
       "      <td>1</td>\n",
       "      <td>2014</td>\n",
       "      <td>618.0</td>\n",
       "      <td>Come Away with Me</td>\n",
       "    </tr>\n",
       "  </tbody>\n",
       "</table>\n",
       "</div>"
      ],
      "text/plain": [
       "    reviewerID  asin  score                                           title\n",
       "0            0  2133  777.0                           Get Rich Or Die Tryin\n",
       "1            0  1770  693.0                         The Marshall Mathers LP\n",
       "2            0  2039  660.0  The Eminem Show [Limited Edition w/ Bonus DVD]\n",
       "3            0   169  632.0                                  All Eyez on Me\n",
       "4            0   459  607.0                                        Thriller\n",
       "5            0  1955  598.0                                       Blueprint\n",
       "6            0  2212  594.0                    Speakerboxxx/ The Love Below\n",
       "7            0  2408  564.0                                 The Documentary\n",
       "8            0   992  559.0                             Are You Experienced\n",
       "9            0  1666  545.0                                    Chronic 2001\n",
       "10           1  2133  777.0                           Get Rich Or Die Tryin\n",
       "11           1  1770  693.0                         The Marshall Mathers LP\n",
       "12           1  2039  660.0  The Eminem Show [Limited Edition w/ Bonus DVD]\n",
       "13           1   169  632.0                                  All Eyez on Me\n",
       "14           1  2014  618.0                               Come Away with Me"
      ]
     },
     "execution_count": 36,
     "metadata": {},
     "output_type": "execute_result"
    }
   ],
   "source": [
    "ranking = pd.read_csv('out_mp_pred.txt', sep='\\t', names=['reviewerID', 'asin', 'score'])\n",
    "ranking['title'] = ranking.asin.map(map_title)\n",
    "ranking.head(15)"
   ]
  },
  {
   "cell_type": "code",
   "execution_count": 37,
   "metadata": {
    "colab": {
     "base_uri": "https://localhost:8080/",
     "height": 509
    },
    "executionInfo": {
     "elapsed": 742,
     "status": "ok",
     "timestamp": 1602876178720,
     "user": {
      "displayName": "Arthur Fortes da Costa",
      "photoUrl": "",
      "userId": "07165886726870908895"
     },
     "user_tz": 180
    },
    "id": "0nPtc26fp2R_",
    "outputId": "e9bbe1cd-0b11-4c35-b0d8-0960d739522e"
   },
   "outputs": [
    {
     "data": {
      "text/html": [
       "<div>\n",
       "<style scoped>\n",
       "    .dataframe tbody tr th:only-of-type {\n",
       "        vertical-align: middle;\n",
       "    }\n",
       "\n",
       "    .dataframe tbody tr th {\n",
       "        vertical-align: top;\n",
       "    }\n",
       "\n",
       "    .dataframe thead th {\n",
       "        text-align: right;\n",
       "    }\n",
       "</style>\n",
       "<table border=\"1\" class=\"dataframe\">\n",
       "  <thead>\n",
       "    <tr style=\"text-align: right;\">\n",
       "      <th></th>\n",
       "      <th>reviewerID</th>\n",
       "      <th>asin</th>\n",
       "      <th>score</th>\n",
       "      <th>title</th>\n",
       "    </tr>\n",
       "  </thead>\n",
       "  <tbody>\n",
       "    <tr>\n",
       "      <th>0</th>\n",
       "      <td>0</td>\n",
       "      <td>2133</td>\n",
       "      <td>223.0</td>\n",
       "      <td>Get Rich Or Die Tryin</td>\n",
       "    </tr>\n",
       "    <tr>\n",
       "      <th>1</th>\n",
       "      <td>0</td>\n",
       "      <td>2418</td>\n",
       "      <td>218.0</td>\n",
       "      <td>The Massacre</td>\n",
       "    </tr>\n",
       "    <tr>\n",
       "      <th>2</th>\n",
       "      <td>0</td>\n",
       "      <td>2039</td>\n",
       "      <td>168.0</td>\n",
       "      <td>The Eminem Show [Limited Edition w/ Bonus DVD]</td>\n",
       "    </tr>\n",
       "    <tr>\n",
       "      <th>3</th>\n",
       "      <td>0</td>\n",
       "      <td>1770</td>\n",
       "      <td>162.0</td>\n",
       "      <td>The Marshall Mathers LP</td>\n",
       "    </tr>\n",
       "    <tr>\n",
       "      <th>4</th>\n",
       "      <td>0</td>\n",
       "      <td>2212</td>\n",
       "      <td>148.0</td>\n",
       "      <td>Speakerboxxx/ The Love Below</td>\n",
       "    </tr>\n",
       "    <tr>\n",
       "      <th>5</th>\n",
       "      <td>0</td>\n",
       "      <td>2408</td>\n",
       "      <td>146.0</td>\n",
       "      <td>The Documentary</td>\n",
       "    </tr>\n",
       "    <tr>\n",
       "      <th>6</th>\n",
       "      <td>0</td>\n",
       "      <td>169</td>\n",
       "      <td>134.0</td>\n",
       "      <td>All Eyez on Me</td>\n",
       "    </tr>\n",
       "    <tr>\n",
       "      <th>7</th>\n",
       "      <td>0</td>\n",
       "      <td>1955</td>\n",
       "      <td>134.0</td>\n",
       "      <td>Blueprint</td>\n",
       "    </tr>\n",
       "    <tr>\n",
       "      <th>8</th>\n",
       "      <td>0</td>\n",
       "      <td>459</td>\n",
       "      <td>126.0</td>\n",
       "      <td>Thriller</td>\n",
       "    </tr>\n",
       "    <tr>\n",
       "      <th>9</th>\n",
       "      <td>0</td>\n",
       "      <td>2150</td>\n",
       "      <td>122.0</td>\n",
       "      <td>Meteora</td>\n",
       "    </tr>\n",
       "    <tr>\n",
       "      <th>10</th>\n",
       "      <td>1</td>\n",
       "      <td>2133</td>\n",
       "      <td>223.0</td>\n",
       "      <td>Get Rich Or Die Tryin</td>\n",
       "    </tr>\n",
       "    <tr>\n",
       "      <th>11</th>\n",
       "      <td>1</td>\n",
       "      <td>2418</td>\n",
       "      <td>218.0</td>\n",
       "      <td>The Massacre</td>\n",
       "    </tr>\n",
       "    <tr>\n",
       "      <th>12</th>\n",
       "      <td>1</td>\n",
       "      <td>2039</td>\n",
       "      <td>168.0</td>\n",
       "      <td>The Eminem Show [Limited Edition w/ Bonus DVD]</td>\n",
       "    </tr>\n",
       "    <tr>\n",
       "      <th>13</th>\n",
       "      <td>1</td>\n",
       "      <td>1770</td>\n",
       "      <td>162.0</td>\n",
       "      <td>The Marshall Mathers LP</td>\n",
       "    </tr>\n",
       "    <tr>\n",
       "      <th>14</th>\n",
       "      <td>1</td>\n",
       "      <td>2014</td>\n",
       "      <td>154.0</td>\n",
       "      <td>Come Away with Me</td>\n",
       "    </tr>\n",
       "  </tbody>\n",
       "</table>\n",
       "</div>"
      ],
      "text/plain": [
       "    reviewerID  asin  score                                           title\n",
       "0            0  2133  223.0                           Get Rich Or Die Tryin\n",
       "1            0  2418  218.0                                    The Massacre\n",
       "2            0  2039  168.0  The Eminem Show [Limited Edition w/ Bonus DVD]\n",
       "3            0  1770  162.0                         The Marshall Mathers LP\n",
       "4            0  2212  148.0                    Speakerboxxx/ The Love Below\n",
       "5            0  2408  146.0                                 The Documentary\n",
       "6            0   169  134.0                                  All Eyez on Me\n",
       "7            0  1955  134.0                                       Blueprint\n",
       "8            0   459  126.0                                        Thriller\n",
       "9            0  2150  122.0                                         Meteora\n",
       "10           1  2133  223.0                           Get Rich Or Die Tryin\n",
       "11           1  2418  218.0                                    The Massacre\n",
       "12           1  2039  168.0  The Eminem Show [Limited Edition w/ Bonus DVD]\n",
       "13           1  1770  162.0                         The Marshall Mathers LP\n",
       "14           1  2014  154.0                               Come Away with Me"
      ]
     },
     "execution_count": 37,
     "metadata": {},
     "output_type": "execute_result"
    }
   ],
   "source": [
    "ranking = pd.read_csv('out_mp_pred_binary.txt', sep='\\t', names=['reviewerID', 'asin', 'score'])\n",
    "ranking['title'] = ranking.asin.map(map_title)\n",
    "ranking.head(15)"
   ]
  }
 ],
 "metadata": {
  "colab": {
   "machine_shape": "hm",
   "name": "Recomendação Não Personalizada.ipynb",
   "provenance": []
  },
  "kernelspec": {
   "display_name": "Python 3",
   "language": "python",
   "name": "python3"
  },
  "language_info": {
   "codemirror_mode": {
    "name": "ipython",
    "version": 3
   },
   "file_extension": ".py",
   "mimetype": "text/x-python",
   "name": "python",
   "nbconvert_exporter": "python",
   "pygments_lexer": "ipython3",
   "version": "3.8.5"
  }
 },
 "nbformat": 4,
 "nbformat_minor": 1
}
