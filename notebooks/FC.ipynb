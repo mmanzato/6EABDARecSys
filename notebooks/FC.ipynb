{
 "cells": [
  {
   "cell_type": "code",
   "execution_count": 6,
   "metadata": {
    "colab": {
     "base_uri": "https://localhost:8080/",
     "height": 589
    },
    "executionInfo": {
     "elapsed": 8054,
     "status": "ok",
     "timestamp": 1602879650330,
     "user": {
      "displayName": "Arthur Fortes da Costa",
      "photoUrl": "",
      "userId": "07165886726870908895"
     },
     "user_tz": 180
    },
    "id": "OD_v_w7Xl4aO",
    "outputId": "13b37d08-5e4f-4898-ed68-ad30bc201bfc"
   },
   "outputs": [
    {
     "name": "stdout",
     "output_type": "stream",
     "text": [
      "100% [....................................................] 23861964 / 23861964\n",
      "Saved under AmazonMusic.tar.xz\n",
      "Defaulting to user installation because normal site-packages is not writeable\n",
      "Requirement already satisfied: caserecommender in /usr/local/lib/python3.8/site-packages (1.1.0)\n",
      "Requirement already satisfied: numpy in /usr/local/lib/python3.8/site-packages (from caserecommender) (1.20.2)\n",
      "Requirement already satisfied: scipy in /usr/local/lib/python3.8/site-packages (from caserecommender) (1.7.2)\n",
      "Requirement already satisfied: scikit-learn in /usr/local/lib/python3.8/site-packages (from caserecommender) (1.0.1)\n",
      "Requirement already satisfied: pandas in /usr/local/lib/python3.8/site-packages (from caserecommender) (1.3.4)\n",
      "Requirement already satisfied: python-dateutil>=2.7.3 in /usr/local/lib/python3.8/site-packages (from pandas->caserecommender) (2.8.2)\n",
      "Requirement already satisfied: pytz>=2017.3 in /usr/local/lib/python3.8/site-packages (from pandas->caserecommender) (2021.1)\n",
      "Requirement already satisfied: joblib>=0.11 in /usr/local/lib/python3.8/site-packages (from scikit-learn->caserecommender) (1.0.1)\n",
      "Requirement already satisfied: threadpoolctl>=2.0.0 in /usr/local/lib/python3.8/site-packages (from scikit-learn->caserecommender) (3.0.0)\n",
      "Requirement already satisfied: six>=1.5 in /usr/local/lib/python3.8/site-packages (from python-dateutil>=2.7.3->pandas->caserecommender) (1.15.0)\n",
      "\n",
      "\u001b[1m[\u001b[0m\u001b[34;49mnotice\u001b[0m\u001b[1;39;49m]\u001b[0m\u001b[39;49m A new release of pip available: \u001b[0m\u001b[31;49m22.2.1\u001b[0m\u001b[39;49m -> \u001b[0m\u001b[32;49m22.2.2\u001b[0m\n",
      "\u001b[1m[\u001b[0m\u001b[34;49mnotice\u001b[0m\u001b[1;39;49m]\u001b[0m\u001b[39;49m To update, run: \u001b[0m\u001b[32;49mpython3.8 -m pip install --upgrade pip\u001b[0m\n"
     ]
    }
   ],
   "source": [
    "!python3 -m pip install wget\n",
    "import wget\n",
    "!python3 -m wget https://github.com/mmanzato/6EABDARecSys/raw/main/dataset/AmazonMusic.tar.xz\n",
    "!tar -xf AmazonMusic.tar.xz\n",
    "!python3 -m pip install caserecommender"
   ]
  },
  {
   "cell_type": "code",
   "execution_count": 7,
   "metadata": {
    "executionInfo": {
     "elapsed": 631,
     "status": "ok",
     "timestamp": 1602879653090,
     "user": {
      "displayName": "Arthur Fortes da Costa",
      "photoUrl": "",
      "userId": "07165886726870908895"
     },
     "user_tz": 180
    },
    "id": "BwBeOhCaERjC"
   },
   "outputs": [],
   "source": [
    "import numpy as np\n",
    "import pandas as pd"
   ]
  },
  {
   "cell_type": "code",
   "execution_count": 8,
   "metadata": {
    "colab": {
     "base_uri": "https://localhost:8080/",
     "height": 139
    },
    "executionInfo": {
     "elapsed": 582,
     "status": "ok",
     "timestamp": 1602879654305,
     "user": {
      "displayName": "Arthur Fortes da Costa",
      "photoUrl": "",
      "userId": "07165886726870908895"
     },
     "user_tz": 180
    },
    "id": "yFc5AN6-mBWT",
    "outputId": "a50d48f0-aecd-40ac-9120-a66a9ff5c6b5"
   },
   "outputs": [
    {
     "name": "stdout",
     "output_type": "stream",
     "text": [
      "total 60080\r\n",
      "-rw-rw-r--@ 1 manzato  staff   4645392 Sep 29 11:09 4. Filtragem Colaborativa.pptx\r\n",
      "drwxr-xr-x  6 manzato  staff       192 Oct 13  2020 \u001b[34mAmazonMusic\u001b[m\u001b[m/\r\n",
      "-rw-r--r--  1 manzato  staff  23861964 Sep 29 16:18 AmazonMusic.tar.xz\r\n",
      "-rw-rw-r--@ 1 manzato  staff     21761 Sep 29 16:17 FC.ipynb\r\n",
      "-rw-r--r--  1 manzato  staff     74632 Jul 18  2020 dict_title.npy\r\n",
      "-rw-r--r--  1 manzato  staff    291777 Oct 13  2020 test.txt\r\n",
      "-rw-r--r--  1 manzato  staff   1177686 Oct 13  2020 train.txt\r\n"
     ]
    }
   ],
   "source": [
    "ls -l"
   ]
  },
  {
   "cell_type": "code",
   "execution_count": 12,
   "metadata": {
    "colab": {
     "base_uri": "https://localhost:8080/",
     "height": 141
    },
    "executionInfo": {
     "elapsed": 568,
     "status": "ok",
     "timestamp": 1602879671762,
     "user": {
      "displayName": "Arthur Fortes da Costa",
      "photoUrl": "",
      "userId": "07165886726870908895"
     },
     "user_tz": 180
    },
    "id": "lfGR9oltFwcf",
    "outputId": "503659fb-c637-43f4-ff72-ad164c931411"
   },
   "outputs": [],
   "source": [
    "dataset = pd.read_json('./AmazonMusic/Digital_Music_5.json', lines=True)\n",
    "dataset_metadata = pd.read_csv('./AmazonMusic/amazon_music_metadata.csv')\n",
    "\n",
    "df = dataset[['reviewerID', 'asin', 'overall']]\n",
    "df = df.merge(dataset_metadata[['asin', 'title']])\n",
    "\n",
    "map_users = {user: idx for idx, user in enumerate(df.reviewerID.unique())}\n",
    "map_items = {item: idx for idx, item in enumerate(df.asin.unique())}\n",
    "df['reviewerID'] = df['reviewerID'].map(map_users)\n",
    "df['asin'] = df['asin'].map(map_items)\n",
    "    \n",
    "from sklearn.model_selection import train_test_split\n",
    "train, test = train_test_split(df, test_size=.2, random_state=2)\n",
    "\n",
    "train.to_csv('train.txt', index=False, header=False, sep='\\t')\n",
    "test.to_csv('test.txt', index=False, header=False, sep='\\t')"
   ]
  },
  {
   "cell_type": "code",
   "execution_count": 18,
   "metadata": {},
   "outputs": [],
   "source": [
    "map_title = {}\n",
    "\n",
    "for _, row in df.iterrows():\n",
    "    map_title[row.asin] = row.title"
   ]
  },
  {
   "cell_type": "code",
   "execution_count": 13,
   "metadata": {},
   "outputs": [
    {
     "data": {
      "text/html": [
       "<div>\n",
       "<style scoped>\n",
       "    .dataframe tbody tr th:only-of-type {\n",
       "        vertical-align: middle;\n",
       "    }\n",
       "\n",
       "    .dataframe tbody tr th {\n",
       "        vertical-align: top;\n",
       "    }\n",
       "\n",
       "    .dataframe thead th {\n",
       "        text-align: right;\n",
       "    }\n",
       "</style>\n",
       "<table border=\"1\" class=\"dataframe\">\n",
       "  <thead>\n",
       "    <tr style=\"text-align: right;\">\n",
       "      <th></th>\n",
       "      <th>reviewerID</th>\n",
       "      <th>asin</th>\n",
       "      <th>rate</th>\n",
       "      <th>title</th>\n",
       "    </tr>\n",
       "  </thead>\n",
       "  <tbody>\n",
       "    <tr>\n",
       "      <th>4870</th>\n",
       "      <td>0</td>\n",
       "      <td>0</td>\n",
       "      <td>5</td>\n",
       "      <td>Memory of Trees</td>\n",
       "    </tr>\n",
       "    <tr>\n",
       "      <th>9411</th>\n",
       "      <td>0</td>\n",
       "      <td>959</td>\n",
       "      <td>5</td>\n",
       "      <td>Ray of Light</td>\n",
       "    </tr>\n",
       "  </tbody>\n",
       "</table>\n",
       "</div>"
      ],
      "text/plain": [
       "      reviewerID  asin  rate            title\n",
       "4870           0     0     5  Memory of Trees\n",
       "9411           0   959     5     Ray of Light"
      ]
     },
     "execution_count": 13,
     "metadata": {},
     "output_type": "execute_result"
    }
   ],
   "source": [
    "test = pd.read_csv('test.txt', sep='\\t', names=['reviewerID', 'asin', \n",
    "                                                'rate', 'title'])\n",
    "test[test.reviewerID == 0]"
   ]
  },
  {
   "cell_type": "markdown",
   "metadata": {
    "id": "PG2-igcjGgzs"
   },
   "source": [
    "## Memory-based"
   ]
  },
  {
   "cell_type": "code",
   "execution_count": 14,
   "metadata": {
    "colab": {
     "base_uri": "https://localhost:8080/",
     "height": 156
    },
    "executionInfo": {
     "elapsed": 34854,
     "status": "ok",
     "timestamp": 1602879745559,
     "user": {
      "displayName": "Arthur Fortes da Costa",
      "photoUrl": "",
      "userId": "07165886726870908895"
     },
     "user_tz": 180
    },
    "id": "gnQKrVXnDurV",
    "outputId": "5861183e-3a48-4e46-affc-b451189ab8d5"
   },
   "outputs": [
    {
     "name": "stdout",
     "output_type": "stream",
     "text": [
      "[Case Recommender: Rating Prediction > ItemKNN Algorithm]\n",
      "\n",
      "train data:: 5099 users and 2582 items (41436 interactions) | sparsity:: 99.69%\n",
      "test data:: 3818 users and 2288 items (10360 interactions) | sparsity:: 99.88%\n",
      "\n",
      "training_time:: 6.111202 sec\n",
      "prediction_time:: 0.423604 sec\n",
      "Eval:: MAE: 0.698814 RMSE: 1.085571 \n"
     ]
    }
   ],
   "source": [
    "from caserec.recommenders.rating_prediction.itemknn import ItemKNN\n",
    "\n",
    "ItemKNN('train.txt', 'test.txt', 'rp_iknn.dat').compute()"
   ]
  },
  {
   "cell_type": "code",
   "execution_count": 20,
   "metadata": {
    "colab": {
     "base_uri": "https://localhost:8080/",
     "height": 141
    },
    "executionInfo": {
     "elapsed": 634,
     "status": "ok",
     "timestamp": 1602879892856,
     "user": {
      "displayName": "Arthur Fortes da Costa",
      "photoUrl": "",
      "userId": "07165886726870908895"
     },
     "user_tz": 180
    },
    "id": "L1EoGufqFHJp",
    "outputId": "e5721d16-7d10-4028-926a-bf09cae7999c"
   },
   "outputs": [
    {
     "data": {
      "text/html": [
       "<div>\n",
       "<style scoped>\n",
       "    .dataframe tbody tr th:only-of-type {\n",
       "        vertical-align: middle;\n",
       "    }\n",
       "\n",
       "    .dataframe tbody tr th {\n",
       "        vertical-align: top;\n",
       "    }\n",
       "\n",
       "    .dataframe thead th {\n",
       "        text-align: right;\n",
       "    }\n",
       "</style>\n",
       "<table border=\"1\" class=\"dataframe\">\n",
       "  <thead>\n",
       "    <tr style=\"text-align: right;\">\n",
       "      <th></th>\n",
       "      <th>reviewerID</th>\n",
       "      <th>asin</th>\n",
       "      <th>rate</th>\n",
       "      <th>title</th>\n",
       "    </tr>\n",
       "  </thead>\n",
       "  <tbody>\n",
       "    <tr>\n",
       "      <th>0</th>\n",
       "      <td>0</td>\n",
       "      <td>0</td>\n",
       "      <td>2.507352</td>\n",
       "      <td>Memory of Trees</td>\n",
       "    </tr>\n",
       "    <tr>\n",
       "      <th>1</th>\n",
       "      <td>0</td>\n",
       "      <td>959</td>\n",
       "      <td>2.502669</td>\n",
       "      <td>Ray of Light</td>\n",
       "    </tr>\n",
       "    <tr>\n",
       "      <th>2</th>\n",
       "      <td>1</td>\n",
       "      <td>667</td>\n",
       "      <td>4.931571</td>\n",
       "      <td>For the Roses</td>\n",
       "    </tr>\n",
       "  </tbody>\n",
       "</table>\n",
       "</div>"
      ],
      "text/plain": [
       "   reviewerID  asin      rate            title\n",
       "0           0     0  2.507352  Memory of Trees\n",
       "1           0   959  2.502669     Ray of Light\n",
       "2           1   667  4.931571    For the Roses"
      ]
     },
     "execution_count": 20,
     "metadata": {},
     "output_type": "execute_result"
    }
   ],
   "source": [
    "predictions = pd.read_csv('rp_iknn.dat', sep='\\t', names=['reviewerID', 'asin', 'rate'])\n",
    "predictions['title'] = predictions.asin.map(map_title)\n",
    "predictions.head(3)"
   ]
  },
  {
   "cell_type": "code",
   "execution_count": 16,
   "metadata": {
    "colab": {
     "base_uri": "https://localhost:8080/",
     "height": 156
    },
    "executionInfo": {
     "elapsed": 49816,
     "status": "ok",
     "timestamp": 1602879953745,
     "user": {
      "displayName": "Arthur Fortes da Costa",
      "photoUrl": "",
      "userId": "07165886726870908895"
     },
     "user_tz": 180
    },
    "id": "dqOhsX0XEIG_",
    "outputId": "455f7e2f-6e53-4485-df0c-376344c15ef8"
   },
   "outputs": [
    {
     "name": "stdout",
     "output_type": "stream",
     "text": [
      "[Case Recommender: Rating Prediction > UserKNN Algorithm]\n",
      "\n",
      "train data:: 5099 users and 2582 items (41436 interactions) | sparsity:: 99.69%\n",
      "test data:: 3818 users and 2288 items (10360 interactions) | sparsity:: 99.88%\n",
      "\n",
      "training_time:: 6.052077 sec\n",
      "prediction_time:: 2.117171 sec\n",
      "Eval:: MAE: 0.673922 RMSE: 0.974793 \n"
     ]
    }
   ],
   "source": [
    "from caserec.recommenders.rating_prediction.userknn import UserKNN\n",
    "\n",
    "UserKNN('train.txt', 'test.txt', 'rp_uknn.dat').compute()"
   ]
  },
  {
   "cell_type": "code",
   "execution_count": 19,
   "metadata": {
    "colab": {
     "base_uri": "https://localhost:8080/"
    },
    "executionInfo": {
     "elapsed": 106587,
     "status": "ok",
     "timestamp": 1567706718014,
     "user": {
      "displayName": "Arthur Fortes",
      "photoUrl": "https://lh3.googleusercontent.com/a-/AAuE7mAZ-Zb_VJ9b2aW2drxY6-lydP0JaLB3zrewJKl-ilI=s64",
      "userId": "02539435113919573000"
     },
     "user_tz": 180
    },
    "id": "fG8zLJsFFVN9",
    "outputId": "af91df69-0a24-4ab9-8fd9-0bd7df4989c5"
   },
   "outputs": [
    {
     "data": {
      "text/html": [
       "<div>\n",
       "<style scoped>\n",
       "    .dataframe tbody tr th:only-of-type {\n",
       "        vertical-align: middle;\n",
       "    }\n",
       "\n",
       "    .dataframe tbody tr th {\n",
       "        vertical-align: top;\n",
       "    }\n",
       "\n",
       "    .dataframe thead th {\n",
       "        text-align: right;\n",
       "    }\n",
       "</style>\n",
       "<table border=\"1\" class=\"dataframe\">\n",
       "  <thead>\n",
       "    <tr style=\"text-align: right;\">\n",
       "      <th></th>\n",
       "      <th>reviewerID</th>\n",
       "      <th>asin</th>\n",
       "      <th>rate</th>\n",
       "      <th>title</th>\n",
       "    </tr>\n",
       "  </thead>\n",
       "  <tbody>\n",
       "    <tr>\n",
       "      <th>0</th>\n",
       "      <td>0</td>\n",
       "      <td>0</td>\n",
       "      <td>4.967764</td>\n",
       "      <td>Memory of Trees</td>\n",
       "    </tr>\n",
       "    <tr>\n",
       "      <th>1</th>\n",
       "      <td>0</td>\n",
       "      <td>959</td>\n",
       "      <td>4.085450</td>\n",
       "      <td>Ray of Light</td>\n",
       "    </tr>\n",
       "    <tr>\n",
       "      <th>2</th>\n",
       "      <td>1</td>\n",
       "      <td>667</td>\n",
       "      <td>5.000000</td>\n",
       "      <td>For the Roses</td>\n",
       "    </tr>\n",
       "  </tbody>\n",
       "</table>\n",
       "</div>"
      ],
      "text/plain": [
       "   reviewerID  asin      rate            title\n",
       "0           0     0  4.967764  Memory of Trees\n",
       "1           0   959  4.085450     Ray of Light\n",
       "2           1   667  5.000000    For the Roses"
      ]
     },
     "execution_count": 19,
     "metadata": {},
     "output_type": "execute_result"
    }
   ],
   "source": [
    "predictions = pd.read_csv('rp_uknn.dat', sep='\\t', names=['reviewerID', 'asin', 'rate'])\n",
    "predictions['title'] = predictions.asin.map(map_title)\n",
    "predictions.head(3)"
   ]
  },
  {
   "cell_type": "markdown",
   "metadata": {
    "id": "lch6FzLoGF4F"
   },
   "source": [
    "## Model-based"
   ]
  },
  {
   "cell_type": "code",
   "execution_count": 21,
   "metadata": {
    "colab": {
     "base_uri": "https://localhost:8080/",
     "height": 191
    },
    "executionInfo": {
     "elapsed": 3463,
     "status": "ok",
     "timestamp": 1602880488008,
     "user": {
      "displayName": "Arthur Fortes da Costa",
      "photoUrl": "",
      "userId": "07165886726870908895"
     },
     "user_tz": 180
    },
    "id": "hTgDDYUlGJTc",
    "outputId": "874c4d38-6093-469f-d16a-4bf836a6ce15"
   },
   "outputs": [
    {
     "name": "stdout",
     "output_type": "stream",
     "text": [
      "[Case Recommender: Rating Prediction > Matrix Factorization]\n",
      "\n",
      "train data:: 5099 users and 2582 items (41436 interactions) | sparsity:: 99.69%\n",
      "test data:: 3818 users and 2288 items (10360 interactions) | sparsity:: 99.88%\n",
      "\n",
      "training_time:: 0.923295 sec\n",
      "prediction_time:: 0.024067 sec\n",
      "\n",
      "\n",
      "Eval:: MAE: 0.837403 RMSE: 1.075602 \n"
     ]
    }
   ],
   "source": [
    "from caserec.recommenders.rating_prediction.matrixfactorization import MatrixFactorization\n",
    "\n",
    "MatrixFactorization('train.txt', 'test.txt', 'rp_mf.dat', factors=3).compute()"
   ]
  },
  {
   "cell_type": "code",
   "execution_count": 22,
   "metadata": {
    "colab": {
     "base_uri": "https://localhost:8080/",
     "height": 191
    },
    "executionInfo": {
     "elapsed": 5352,
     "status": "ok",
     "timestamp": 1602880497194,
     "user": {
      "displayName": "Arthur Fortes da Costa",
      "photoUrl": "",
      "userId": "07165886726870908895"
     },
     "user_tz": 180
    },
    "id": "y3BFGK-6Hcg9",
    "outputId": "a7208da9-c95b-44fc-f379-4bb0a312160d"
   },
   "outputs": [
    {
     "name": "stdout",
     "output_type": "stream",
     "text": [
      "[Case Recommender: Rating Prediction > SVD]\n",
      "\n",
      "train data:: 5099 users and 2582 items (41436 interactions) | sparsity:: 99.69%\n",
      "test data:: 3818 users and 2288 items (10360 interactions) | sparsity:: 99.88%\n",
      "\n",
      "training_time:: 1.231262 sec\n",
      "prediction_time:: 0.011789 sec\n",
      "\n",
      "\n",
      "Eval:: MAE: 0.815141 RMSE: 1.127661 \n"
     ]
    }
   ],
   "source": [
    "from caserec.recommenders.rating_prediction.svd import SVD\n",
    "\n",
    "SVD('train.txt', 'test.txt', 'rp_mf.dat', factors=30).compute()"
   ]
  }
 ],
 "metadata": {
  "colab": {
   "collapsed_sections": [],
   "name": "FC.ipynb",
   "provenance": []
  },
  "kernelspec": {
   "display_name": "Python 3",
   "language": "python",
   "name": "python3"
  },
  "language_info": {
   "codemirror_mode": {
    "name": "ipython",
    "version": 3
   },
   "file_extension": ".py",
   "mimetype": "text/x-python",
   "name": "python",
   "nbconvert_exporter": "python",
   "pygments_lexer": "ipython3",
   "version": "3.8.5"
  }
 },
 "nbformat": 4,
 "nbformat_minor": 1
}
